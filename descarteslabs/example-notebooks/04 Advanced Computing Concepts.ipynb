{
 "cells": [
  {
   "cell_type": "markdown",
   "id": "5440ddaa-38cc-43b9-b4b9-4f2dc3fa4026",
   "metadata": {},
   "source": [
    "## Advanced Computing Concepts with Dynamic Compute\n",
    "In other tutorials we explored the fundementals of `Dynamic Compute`. In this notebook we will provide an overview of a subset of more complex examples of the API, such as:\n",
    "* Interacting between `Mosaic`s and `ImageStack`s\n",
    "* Interoperability between `DLTile` and other `AOI` objects\n",
    "* More advanced batch-style, time series analysis examples"
   ]
  },
  {
   "cell_type": "code",
   "execution_count": null,
   "id": "e373f284-2531-447a-8893-7e11f5ceae6b",
   "metadata": {},
   "outputs": [],
   "source": [
    "import descarteslabs as dl\n",
    "import descarteslabs.dynamic_compute as dc\n",
    "from descarteslabs.dynamic_compute import Mosaic, ImageStack"
   ]
  },
  {
   "cell_type": "markdown",
   "id": "098b55dd-0cb0-430c-a292-ecbee235759a",
   "metadata": {},
   "source": [
    "First, we will set up some global variables and set up our input `ImageStack` and `Mosaic` objects. Here we will work with an `ImageStack` of `Sentinel-2` imagery corresponding to the date range of January to May, 2023 and a `Mosaic` of 2022's `Cropland Data Layer`:"
   ]
  },
  {
   "cell_type": "code",
   "execution_count": null,
   "id": "511c0e03-fa2f-4f59-a2d2-48c9e6528986",
   "metadata": {},
   "outputs": [],
   "source": [
    "start_date = \"2023-01-01\"\n",
    "end_date = \"2023-05-01\"\n",
    "pid = \"esa:sentinel-2:l2a:v1\"\n",
    "cdl_pid = \"usda:cdl:v1\"\n",
    "bands = \"nir red green blue\""
   ]
  },
  {
   "cell_type": "code",
   "execution_count": null,
   "id": "700cc06b-abcf-4ba0-9b5b-89bc6a896aea",
   "metadata": {},
   "outputs": [],
   "source": [
    "s2_stack = ImageStack.from_product_bands(\n",
    "    pid, bands, start_datetime=start_date, end_datetime=end_date\n",
    ").filter(lambda x: x.cloud_fraction < 0.2)\n",
    "\n",
    "cdl_mosaic = Mosaic.from_product_bands(\n",
    "    cdl_pid, \"class\", start_datetime=\"2022-01-01\", end_datetime=\"2023-01-01\"\n",
    ")"
   ]
  },
  {
   "cell_type": "markdown",
   "id": "c49bdf65-4775-4af7-9b0e-ab49a042f1b9",
   "metadata": {},
   "source": [
    "### Interacting between ImageCollecitons and Mosaics\n",
    "In the next few cells we will calculate NDVI through our time period and then mask to our Cropland Data Layer's Corn class:"
   ]
  },
  {
   "cell_type": "code",
   "execution_count": null,
   "id": "25e764cb-0706-44f4-9883-d4a886581774",
   "metadata": {},
   "outputs": [],
   "source": [
    "nir, red = s2_stack.unpack_bands(\"nir red\")\n",
    "ndvi = (nir - red) / (nir + red)"
   ]
  },
  {
   "cell_type": "code",
   "execution_count": null,
   "id": "24839465-b9f9-4bb7-a103-8853fab931b6",
   "metadata": {},
   "outputs": [],
   "source": [
    "ndvi_corn_mask = ndvi.mask(cdl_mosaic != 1)"
   ]
  },
  {
   "cell_type": "code",
   "execution_count": null,
   "id": "c2d9b43e-e295-4ba9-9779-e4b10f020001",
   "metadata": {},
   "outputs": [],
   "source": [
    "m = dc.map\n",
    "m.center = 41.34232959809853, -95.54491138405865\n",
    "m.zoom = 14"
   ]
  },
  {
   "cell_type": "code",
   "execution_count": null,
   "id": "bf305a5a-8813-4b0b-8b15-29cfa7bcf763",
   "metadata": {},
   "outputs": [],
   "source": [
    "_ = (\n",
    "    s2_stack.pick_bands(\"red green blue\")\n",
    "    .median(axis=\"images\")\n",
    "    .visualize(\"Sentinel-2 Composite\", m)\n",
    ")\n",
    "_ = ndvi.median(axis=\"images\").visualize(\"NDVI Composite\", m)\n",
    "_ = ndvi_corn_mask.median(axis=\"images\").visualize(\n",
    "    \"NDVI Composite Corn Mask\", m, colormap=\"magma\"\n",
    ")\n",
    "_ = cdl_mosaic.pick_bands(\"class\").visualize(\"CDL\", m, colormap=\"terrain\")"
   ]
  },
  {
   "cell_type": "code",
   "execution_count": null,
   "id": "5dc92dfe-2f94-4657-95fa-f052da7ca9c1",
   "metadata": {},
   "outputs": [],
   "source": [
    "m"
   ]
  },
  {
   "cell_type": "markdown",
   "id": "746be843-c939-49a5-9b40-ad7ad145c5aa",
   "metadata": {},
   "source": [
    "### Interoperability with other `GeoContext` Objects"
   ]
  },
  {
   "cell_type": "code",
   "execution_count": null,
   "id": "b45b6c24-979f-464c-ae81-587ae221342b",
   "metadata": {},
   "outputs": [],
   "source": [
    "from shapely.wkt import loads"
   ]
  },
  {
   "cell_type": "markdown",
   "id": "d122970e-4e14-42e3-8232-027e2163f94f",
   "metadata": {},
   "source": [
    "You can create and `compute` over an `AOI` generated from a `shapely Polygon`:"
   ]
  },
  {
   "cell_type": "code",
   "execution_count": null,
   "id": "79e6fa5e-0b50-4f5f-a1cf-2aa858f4fc15",
   "metadata": {},
   "outputs": [],
   "source": [
    "geom = loads(\n",
    "    \"\"\"POLYGON ((-95.54491138405865 41.34232959809853, \n",
    "    -95.52455234632363 41.34232959809853, \n",
    "    -95.52455234632363 41.35521625255075, \n",
    "    -95.54491138405865 41.35521625255075, \n",
    "    -95.54491138405865 41.34232959809853))\"\"\"\n",
    ")\n",
    "aoi = dl.geo.AOI(geom, resolution=10.0, crs=\"EPSG:3857\")"
   ]
  },
  {
   "cell_type": "code",
   "execution_count": null,
   "id": "c2525a8b-a4c9-4ef6-94e6-c584bd7b84dd",
   "metadata": {},
   "outputs": [],
   "source": [
    "ndvi_mask_arr = ndvi_corn_mask.median(axis=\"images\").compute(aoi).ndarray\n",
    "dl.utils.display(ndvi_mask_arr[0, :, :], colormap=\"viridis\")"
   ]
  },
  {
   "cell_type": "markdown",
   "id": "39c66236-b2ee-433f-87b5-0be03668a543",
   "metadata": {},
   "source": [
    "And also over `DLTile` objects:"
   ]
  },
  {
   "cell_type": "code",
   "execution_count": null,
   "id": "3fb2b723-62ce-40c4-898a-579a033f6d77",
   "metadata": {},
   "outputs": [],
   "source": [
    "dltile = dl.geo.DLTile.from_latlon(\n",
    "    41.34232959809853, -95.54491138405865, tilesize=512, pad=0, resolution=10.0\n",
    ")"
   ]
  },
  {
   "cell_type": "code",
   "execution_count": null,
   "id": "52285181-685c-47c2-a2ad-a21b7bb85686",
   "metadata": {},
   "outputs": [],
   "source": [
    "ndvi_mask_arr = ndvi_corn_mask.median(axis=\"images\").compute(dltile).ndarray\n",
    "dl.utils.display(ndvi_mask_arr, colormap=\"viridis\")"
   ]
  },
  {
   "cell_type": "markdown",
   "id": "135ea9b4-4806-4f25-93d2-a9592f8564d6",
   "metadata": {},
   "source": [
    "### Batch Style Compute - Time Series Analysis\n",
    "In the following cells we will demonstrate how you can utilize an `ImageStack` to retrieve time series summary statistics and `ndarrays`. First, we'll call `.compute` over our `ImageStack` without an aggregation method (e.g. `median`):"
   ]
  },
  {
   "cell_type": "code",
   "execution_count": null,
   "id": "0b202f5e-7dec-4a1f-9bd9-9186448e1f54",
   "metadata": {},
   "outputs": [],
   "source": [
    "ndvi_corn_mask_stack = ndvi_corn_mask.compute(dltile)\n",
    "type(ndvi_corn_mask_stack)"
   ]
  },
  {
   "cell_type": "code",
   "execution_count": null,
   "id": "669626de-c920-422d-ac82-39ba3ec4a2b2",
   "metadata": {},
   "outputs": [],
   "source": [
    "ndvi_corn_mask_stack.ndarray.shape"
   ]
  },
  {
   "cell_type": "markdown",
   "id": "6d06c7f7-613b-4f7f-91eb-51d17d6198c1",
   "metadata": {},
   "source": [
    "Next we will compute the corresponding `mean` NDVI value for each `Image` within our `ImageStack`:"
   ]
  },
  {
   "cell_type": "code",
   "execution_count": null,
   "id": "a1c6e1c9-a473-431c-be86-880ab97c2215",
   "metadata": {},
   "outputs": [],
   "source": [
    "ndvi_corn_mask_mean = ndvi_corn_mask.mean(axis=\"pixels\").compute(dltile)\n",
    "ndvi_corn_mask_mean_list = ndvi_corn_mask_mean.ndarray[:, 0].tolist()"
   ]
  },
  {
   "cell_type": "code",
   "execution_count": null,
   "id": "c9a633c2-6ab5-484b-af91-f0f06735a3ff",
   "metadata": {},
   "outputs": [],
   "source": [
    "ndvi_corn_mask_mean_list"
   ]
  },
  {
   "cell_type": "code",
   "execution_count": null,
   "id": "fe8a7f95-0989-45aa-9a32-2e08620d7d40",
   "metadata": {},
   "outputs": [],
   "source": [
    "ndvi_mask_dates = [\n",
    "    p[\"acquired\"].strftime(\"%Y-%m-%d %HH:%mm:%s\")\n",
    "    for p in ndvi_corn_mask_stack.properties\n",
    "]\n",
    "ndvi_mask_dates"
   ]
  },
  {
   "cell_type": "code",
   "execution_count": null,
   "id": "3c3cc7da-554c-4760-85c4-82641aed5594",
   "metadata": {},
   "outputs": [],
   "source": [
    "ndvi_mask_ids = [p[\"id\"] for p in ndvi_corn_mask_stack.properties]\n",
    "ndvi_mask_ids"
   ]
  },
  {
   "cell_type": "code",
   "execution_count": null,
   "id": "714c7bd6-fb15-4814-9cf5-60525c7fdb20",
   "metadata": {},
   "outputs": [],
   "source": [
    "title_list = []\n",
    "for i in range(len(ndvi_mask_dates)):\n",
    "    title_list.append(\n",
    "        f\"Mean NDVI: {ndvi_corn_mask_mean_list[i]}\\nAcquired Date: {ndvi_mask_dates[i]}\\nImage ID: {ndvi_mask_ids[0]}\"\n",
    "    )"
   ]
  },
  {
   "cell_type": "code",
   "execution_count": null,
   "id": "b8e1811b-a54f-431e-8bb6-e2b774638bee",
   "metadata": {},
   "outputs": [],
   "source": [
    "dl.utils.display(*ndvi_corn_mask_stack.ndarray, title=title_list, colormap=\"viridis\")"
   ]
  },
  {
   "cell_type": "code",
   "execution_count": null,
   "id": "bd7a903b-5ae6-4b35-96ff-8543f04366b9",
   "metadata": {},
   "outputs": [],
   "source": []
  },
  {
   "cell_type": "code",
   "execution_count": null,
   "id": "a0fd2ce0-0494-4320-aced-6a97c3f16d5d",
   "metadata": {},
   "outputs": [],
   "source": []
  }
 ],
 "metadata": {
  "kernelspec": {
   "display_name": "Python 3 (ipykernel)",
   "language": "python",
   "name": "python3"
  },
  "language_info": {
   "codemirror_mode": {
    "name": "ipython",
    "version": 3
   },
   "file_extension": ".py",
   "mimetype": "text/x-python",
   "name": "python",
   "nbconvert_exporter": "python",
   "pygments_lexer": "ipython3",
   "version": "3.8.16"
  }
 },
 "nbformat": 4,
 "nbformat_minor": 5
}
