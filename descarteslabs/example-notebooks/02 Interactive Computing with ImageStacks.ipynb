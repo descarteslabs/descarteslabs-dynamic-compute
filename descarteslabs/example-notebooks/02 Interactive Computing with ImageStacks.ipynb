{
 "cells": [
  {
   "cell_type": "markdown",
   "id": "fcf55c6b-c331-448c-a992-18a32c24b057",
   "metadata": {},
   "source": [
    "## Interactive Computing with Dynamic Compute - ImageStacks"
   ]
  },
  {
   "cell_type": "code",
   "execution_count": null,
   "id": "5d5dd4e5-3cc4-4372-8ff9-f6e133feda14",
   "metadata": {
    "tags": []
   },
   "outputs": [],
   "source": [
    "import descarteslabs.dynamic_compute as dc"
   ]
  },
  {
   "cell_type": "markdown",
   "id": "d2b45447-9c87-4872-9add-112ba3329deb",
   "metadata": {},
   "source": [
    "In the previous notebook we worked with the `Mosaic` class. Here we will work with the `ImageStack` (insert less awkward segue here)/\n",
    "\n",
    "In this notebook we will explore the `ImageStack` and its associated functionality to analyze and filter aggregated stacks of imagery. "
   ]
  },
  {
   "cell_type": "markdown",
   "id": "dbaf9434-b06a-4c6e-a78c-ea20c99e7f3e",
   "metadata": {},
   "source": [
    "_Note_: For those coming from the `Workflows` API, the `ImageStack` is analogous to an `ImageCollection` with the temporal dimension functionality (can be less awkward?)."
   ]
  },
  {
   "cell_type": "markdown",
   "id": "96eb1c2f-a5ab-4ff6-a8a9-e8c8312e26c4",
   "metadata": {},
   "source": [
    "First we'll define another `map` and `Mosaic` to reference over the Austin, Texas metro area:"
   ]
  },
  {
   "cell_type": "code",
   "execution_count": null,
   "id": "923361cb-f90b-4e98-8fc2-97ed6a47497e",
   "metadata": {
    "tags": []
   },
   "outputs": [],
   "source": [
    "m = dc.map\n",
    "m.center = 30.2743226, -97.7387934\n",
    "m.zoom = 13"
   ]
  },
  {
   "cell_type": "code",
   "execution_count": null,
   "id": "daeb860e-dbb4-4bc4-a4fe-3f7a68eea9e9",
   "metadata": {
    "tags": []
   },
   "outputs": [],
   "source": [
    "s2_mosaic = dc.Mosaic.from_product_bands(\n",
    "    \"esa:sentinel-2:l2a:v1\",\n",
    "    \"red green blue\",\n",
    "    start_datetime=\"2023-01-01\",\n",
    "    end_datetime=\"2023-04-01\",\n",
    ")\n",
    "_ = s2_mosaic.pick_bands(\"red green blue\").visualize(\n",
    "    \"S2 TCC\", m, scales=[[0, 1], [0, 1], [0, 1]]\n",
    ")"
   ]
  },
  {
   "cell_type": "code",
   "execution_count": null,
   "id": "0536e12e-80ec-4319-a329-6e0ea87c2f80",
   "metadata": {
    "tags": []
   },
   "outputs": [],
   "source": [
    "m"
   ]
  },
  {
   "cell_type": "markdown",
   "id": "a2593cb6-8d12-4a12-b79e-5ad6e884f2f1",
   "metadata": {},
   "source": [
    "### ImageStacks\n",
    "The first thing we notice in our `map` viewport is that it's full of clouds! Let's address that by first creating an `ImageStack` with the very same input `from_product_bands` arguments as before:"
   ]
  },
  {
   "cell_type": "code",
   "execution_count": null,
   "id": "9b4848bc-38dc-4deb-bf73-908bafe81255",
   "metadata": {
    "tags": []
   },
   "outputs": [],
   "source": [
    "s2_stack = dc.ImageStack.from_product_bands(\n",
    "    \"esa:sentinel-2:l2a:v1\",\n",
    "    \"red green blue nir swir1\",\n",
    "    start_datetime=\"2023-01-01\",\n",
    "    end_datetime=\"2023-04-01\",\n",
    ")\n",
    "type(s2_stack)"
   ]
  },
  {
   "cell_type": "markdown",
   "id": "090d9858-ab42-4744-a472-6a2e4b7261b8",
   "metadata": {},
   "source": [
    "### Filtering ImageStacks\n",
    "One limitation of the `Mosaic` class is that the _temporal component of our analysis is not exposed_. Now we can _filter_ based off certain metadata properties, such as `cloud_fraction`:"
   ]
  },
  {
   "cell_type": "code",
   "execution_count": null,
   "id": "71d638e4-dff7-446e-a234-a1f9ece9827c",
   "metadata": {
    "tags": []
   },
   "outputs": [],
   "source": [
    "s2_stack_cloudfree = s2_stack.filter(lambda x: x.cloud_fraction < 0.2)\n",
    "type(s2_stack_cloudfree)"
   ]
  },
  {
   "cell_type": "markdown",
   "id": "9c8e6c64-528d-4131-ab1b-d4748f99d02f",
   "metadata": {},
   "source": [
    "### Visualizing ImageStacks\n",
    "\n",
    "If we tried calling `.visualize` on this `ImageStack` now we would not return any imagery, that is because we need to _aggregate_ our data to reduce othat temporal dimension. In the next cell we will call `.median` on our filtered `ImageStack`, but note we have several other operators you can use (e.g. `min`, `mean`, `max`, etc.)"
   ]
  },
  {
   "cell_type": "code",
   "execution_count": null,
   "id": "aff0c6c4-6fae-44cb-9683-40c1dee62c56",
   "metadata": {
    "tags": []
   },
   "outputs": [],
   "source": [
    "_ = (\n",
    "    s2_stack_cloudfree.median(axis=\"images\")\n",
    "    .pick_bands(\"red green blue\")\n",
    "    .visualize(\"S2 TCC Cloudfree\", m, scales=[[0, 1], [0, 1], [0, 1]])\n",
    ")"
   ]
  },
  {
   "cell_type": "code",
   "execution_count": null,
   "id": "40c0c70c-9776-49b0-926c-9b639d3de06b",
   "metadata": {
    "tags": []
   },
   "outputs": [],
   "source": [
    "m"
   ]
  },
  {
   "cell_type": "markdown",
   "id": "a1e9b5c1-81a3-4878-9577-06bac371bff0",
   "metadata": {},
   "source": [
    "### Band Ratios with ImageStacks\n",
    "\n",
    "As we've seen, the enhanced flexibility afforded when working with `ImageStacks` comes with the added complexity of needing to reduce that temporal dimension. \n",
    "\n",
    "To wrap this notebook up we will calculate the median [Normalized Difference in Built-up Index](https://d-nb.info/1195147821/34) of our cloud-free study area.\n",
    "\n",
    "$NDBI = (SWIR1 - NIR) / (SWIR1 + NIR)$"
   ]
  },
  {
   "cell_type": "code",
   "execution_count": null,
   "id": "e71978c5-7d56-4d87-8fa8-bbc27fe08581",
   "metadata": {
    "tags": []
   },
   "outputs": [],
   "source": [
    "nir, swir = s2_stack_cloudfree.unpack_bands(\"nir swir1\")\n",
    "ndbi = (swir - nir) / (swir + nir)\n",
    "_ = ndbi.median(axis=\"images\").visualize(\"NDBI\", m, scales=[[0, 1], [0, 1], [0, 1]])"
   ]
  },
  {
   "cell_type": "code",
   "execution_count": null,
   "id": "445b27a1-def5-4a28-afbb-f7a2c02942bb",
   "metadata": {},
   "outputs": [],
   "source": []
  },
  {
   "cell_type": "code",
   "execution_count": null,
   "id": "dc95bd18-aadd-457e-89a2-30a908f964da",
   "metadata": {},
   "outputs": [],
   "source": []
  }
 ],
 "metadata": {
  "kernelspec": {
   "display_name": "Python 3 (ipykernel)",
   "language": "python",
   "name": "python3"
  },
  "language_info": {
   "codemirror_mode": {
    "name": "ipython",
    "version": 3
   },
   "file_extension": ".py",
   "mimetype": "text/x-python",
   "name": "python",
   "nbconvert_exporter": "python",
   "pygments_lexer": "ipython3",
   "version": "3.8.16"
  }
 },
 "nbformat": 4,
 "nbformat_minor": 5
}
