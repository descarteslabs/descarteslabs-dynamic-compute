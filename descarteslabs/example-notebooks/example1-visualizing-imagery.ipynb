{
 "cells": [
  {
   "cell_type": "code",
   "execution_count": null,
   "id": "e10906b8-c5f1-4dee-9ee5-d197eb89f962",
   "metadata": {
    "tags": []
   },
   "outputs": [],
   "source": [
    "## this should definitely change, just a placeholder for now"
   ]
  },
  {
   "cell_type": "code",
   "execution_count": null,
   "id": "a1e790b5-2d98-40b1-b410-f91f44452ef1",
   "metadata": {
    "tags": []
   },
   "outputs": [],
   "source": [
    "import descarteslabs.dynamic_compute as dc\n",
    "\n",
    "m = dc.map\n",
    "m.zoom = 14\n",
    "m.center = (43.4783, -110.7506)\n",
    "m"
   ]
  },
  {
   "cell_type": "code",
   "execution_count": null,
   "id": "591f3404-f59c-438e-9f25-0bb2496d9043",
   "metadata": {
    "tags": []
   },
   "outputs": [],
   "source": [
    "spot_rgb = dc.Mosaic.from_product_bands(\n",
    "    \"airbus:oneatlas:spot:v2\",\n",
    "    \"red green blue\",\n",
    "    start_datetime=\"20210101\",\n",
    "    end_datetime=\"2022101\",\n",
    ")"
   ]
  },
  {
   "cell_type": "code",
   "execution_count": null,
   "id": "c61ad3c8-75f7-400e-970a-b67ea74bb96b",
   "metadata": {
    "tags": []
   },
   "outputs": [],
   "source": [
    "_ = spot_rgb.visualize(\"SPOT\", m, scales=[[0, 256], [0, 256], [0, 256]])"
   ]
  },
  {
   "cell_type": "code",
   "execution_count": null,
   "id": "2decb72c-c79c-4afa-955c-72f59f0d46c7",
   "metadata": {},
   "outputs": [],
   "source": []
  }
 ],
 "metadata": {
  "kernelspec": {
   "display_name": "Python 3 (ipykernel)",
   "language": "python",
   "name": "python3"
  },
  "language_info": {
   "codemirror_mode": {
    "name": "ipython",
    "version": 3
   },
   "file_extension": ".py",
   "mimetype": "text/x-python",
   "name": "python",
   "nbconvert_exporter": "python",
   "pygments_lexer": "ipython3",
   "version": "3.8.10"
  }
 },
 "nbformat": 4,
 "nbformat_minor": 5
}
