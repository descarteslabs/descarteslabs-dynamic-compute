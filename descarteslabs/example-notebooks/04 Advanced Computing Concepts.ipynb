{
 "cells": [
  {
   "cell_type": "markdown",
   "id": "5440ddaa-38cc-43b9-b4b9-4f2dc3fa4026",
   "metadata": {},
   "source": [
    "## Advanced Computing Concepts with Dynamic Compute\n",
    "In other tutorials we explored the fundementals of `Dynamic Compute`. In this notebook we will provide an overview of a subset of more complex examples of the API, such as:\n",
    "* Interacting between `Mosaic`s and `ImageStack`s\n",
    "* Interoperability between `DLTile` and other `AOI` objects\n",
    "* More advanced batch-style, time series analysis examples"
   ]
  },
  {
   "cell_type": "code",
   "execution_count": null,
   "id": "e373f284-2531-447a-8893-7e11f5ceae6b",
   "metadata": {},
   "outputs": [],
   "source": [
    "import descarteslabs as dl\n",
    "import descarteslabs.dynamic_compute as dc\n",
    "from descarteslabs.dynamic_compute import Mosaic, ImageStack"
   ]
  },
  {
   "cell_type": "markdown",
   "id": "098b55dd-0cb0-430c-a292-ecbee235759a",
   "metadata": {},
   "source": [
    "First, we will set up some global variables and set up our input `ImageStack` and `Mosaic` objects. Here we will work with an `ImageStack` of `Sentinel-2` imagery corresponding to the date range of May to August, 2022 and a `Mosaic` of 2022's `Cropland Data Layer`:"
   ]
  },
  {
   "cell_type": "code",
   "execution_count": null,
   "id": "511c0e03-fa2f-4f59-a2d2-48c9e6528986",
   "metadata": {},
   "outputs": [],
   "source": [
    "start_date = \"2022-05-01\"\n",
    "end_date = \"2022-08-01\"\n",
    "pid = \"esa:sentinel-2:l2a:v1\"\n",
    "cdl_pid = \"usda:cdl:v1\"\n",
    "bands = \"nir red green blue\""
   ]
  },
  {
   "cell_type": "code",
   "execution_count": null,
   "id": "700cc06b-abcf-4ba0-9b5b-89bc6a896aea",
   "metadata": {},
   "outputs": [],
   "source": [
    "s2_stack = ImageStack.from_product_bands(\n",
    "    pid, bands, start_datetime=start_date, end_datetime=end_date\n",
    ").filter(lambda x: x.cloud_fraction < 0.2)\n",
    "\n",
    "cdl_mosaic = Mosaic.from_product_bands(\n",
    "    cdl_pid, \"class\", start_datetime=\"2021-01-01\", end_datetime=\"2022-01-01\"\n",
    ")"
   ]
  },
  {
   "cell_type": "markdown",
   "id": "c49bdf65-4775-4af7-9b0e-ab49a042f1b9",
   "metadata": {},
   "source": [
    "### Interacting between ImageStacks and Mosaics\n",
    "In the next few cells we will calculate NDVI through our time period and then mask to our Cropland Data Layer's Corn class:"
   ]
  },
  {
   "cell_type": "code",
   "execution_count": null,
   "id": "25e764cb-0706-44f4-9883-d4a886581774",
   "metadata": {},
   "outputs": [],
   "source": [
    "nir, red = s2_stack.unpack_bands(\"nir red\")\n",
    "ndvi = (nir - red) / (nir + red)"
   ]
  },
  {
   "cell_type": "code",
   "execution_count": null,
   "id": "24839465-b9f9-4bb7-a103-8853fab931b6",
   "metadata": {},
   "outputs": [],
   "source": [
    "ndvi_corn_mask = ndvi.mask(cdl_mosaic != 1)"
   ]
  },
  {
   "cell_type": "code",
   "execution_count": null,
   "id": "c2d9b43e-e295-4ba9-9779-e4b10f020001",
   "metadata": {},
   "outputs": [],
   "source": [
    "m = dc.map\n",
    "m.center = 41.34232959809853, -95.54491138405865\n",
    "m.zoom = 13"
   ]
  },
  {
   "cell_type": "code",
   "execution_count": null,
   "id": "bf305a5a-8813-4b0b-8b15-29cfa7bcf763",
   "metadata": {},
   "outputs": [],
   "source": [
    "_ = (\n",
    "    s2_stack.pick_bands(\"red green blue\")\n",
    "    .median(axis=\"images\")\n",
    "    .visualize(\"Sentinel-2 Composite\", m)\n",
    ")\n",
    "_ = ndvi.mean(axis=\"images\").visualize(\"NDVI Composite\", m)\n",
    "_ = cdl_mosaic.pick_bands(\"class\").visualize(\"CDL\", m, colormap=\"terrain\")\n",
    "_ = ndvi_corn_mask.mean(axis=\"images\").visualize(\n",
    "    \"NDVI Composite Corn Mask\", m, colormap=\"magma\"\n",
    ")"
   ]
  },
  {
   "cell_type": "code",
   "execution_count": null,
   "id": "5dc92dfe-2f94-4657-95fa-f052da7ca9c1",
   "metadata": {},
   "outputs": [],
   "source": [
    "m"
   ]
  },
  {
   "cell_type": "markdown",
   "id": "746be843-c939-49a5-9b40-ad7ad145c5aa",
   "metadata": {},
   "source": [
    "### Interoperability with other `GeoContext` Objects\n",
    "Now that we have constructed the base Image layer for our analysis we can extract information from and summarize our results over any type of geometry. In the next few cells we will demonstrate how you can `compute` over `shapely geometries` or `DLTile`s:"
   ]
  },
  {
   "cell_type": "code",
   "execution_count": null,
   "id": "b45b6c24-979f-464c-ae81-587ae221342b",
   "metadata": {},
   "outputs": [],
   "source": [
    "from shapely.wkt import loads\n",
    "import matplotlib.pyplot as plt"
   ]
  },
  {
   "cell_type": "markdown",
   "id": "d122970e-4e14-42e3-8232-027e2163f94f",
   "metadata": {},
   "source": [
    "You can create and `compute` over an `AOI` generated from a `shapely Polygon`:"
   ]
  },
  {
   "cell_type": "code",
   "execution_count": null,
   "id": "79e6fa5e-0b50-4f5f-a1cf-2aa858f4fc15",
   "metadata": {},
   "outputs": [],
   "source": [
    "geom = loads(\n",
    "    \"\"\"POLYGON ((-95.54491138405865 41.34232959809853, \n",
    "    -95.52455234632363 41.34232959809853, \n",
    "    -95.52455234632363 41.35521625255075, \n",
    "    -95.54491138405865 41.35521625255075, \n",
    "    -95.54491138405865 41.34232959809853))\"\"\"\n",
    ")\n",
    "aoi = dl.geo.AOI(geom, resolution=10.0, crs=\"EPSG:3857\")"
   ]
  },
  {
   "cell_type": "markdown",
   "id": "365ee102-04d3-4037-91da-d05629484095",
   "metadata": {},
   "source": [
    "`Compute` mean masked NDVI through our time period over our `AOI`:"
   ]
  },
  {
   "cell_type": "code",
   "execution_count": null,
   "id": "c2525a8b-a4c9-4ef6-94e6-c584bd7b84dd",
   "metadata": {},
   "outputs": [],
   "source": [
    "ndvi_mask_arr = ndvi_corn_mask.mean(axis=\"images\").compute(aoi).ndarray\n",
    "dl.utils.display(ndvi_mask_arr[0, :, :], colormap=\"viridis\", figsize=(5, 5))"
   ]
  },
  {
   "cell_type": "markdown",
   "id": "39c66236-b2ee-433f-87b5-0be03668a543",
   "metadata": {},
   "source": [
    "And also over `DLTile` objects:"
   ]
  },
  {
   "cell_type": "code",
   "execution_count": null,
   "id": "3fb2b723-62ce-40c4-898a-579a033f6d77",
   "metadata": {},
   "outputs": [],
   "source": [
    "dltile = dl.geo.DLTile.from_latlon(\n",
    "    41.34232959809853, -95.54491138405865, tilesize=512, pad=0, resolution=10.0\n",
    ")"
   ]
  },
  {
   "cell_type": "code",
   "execution_count": null,
   "id": "52285181-685c-47c2-a2ad-a21b7bb85686",
   "metadata": {},
   "outputs": [],
   "source": [
    "ndvi_mask_arr = ndvi_corn_mask.mean(axis=\"images\").compute(dltile).ndarray\n",
    "dl.utils.display(ndvi_mask_arr, colormap=\"viridis\", figsize=(5, 5))"
   ]
  },
  {
   "cell_type": "markdown",
   "id": "135ea9b4-4806-4f25-93d2-a9592f8564d6",
   "metadata": {},
   "source": [
    "### Time Series Analysis and Reduction with `ImageStacks`\n",
    "In the following cells we will demonstrate how you can utilize an `ImageStack` to retrieve time series summary statistics and `ndarrays`. Note here we will start with our input `ImageStack`, which has already been masked by our CDL `Mosaic`, and all resulting objects from our aggregation are `Mosaic` objects. \n",
    "\n",
    "* `axis='pixels'`\n",
    "    * First, we'll call `.compute` over our `ImageStack` along `axis='pixels'` to calculate the mean value _across each `GeoContext`_ for each `Image`. When calling `axis='pixels'` we are _aggregating the spatial dimension to a single value_.\n",
    "* `axis='images'`\n",
    "    * Next we will explore calling `.compute` over an `ImageStack` along the `axis='images'` to build simple data composites. When computing over the `images` axis we will be aggregating all `Images` in our `ImageStack` into a single `Image` equivalent."
   ]
  },
  {
   "cell_type": "markdown",
   "id": "b445eb7b-d82e-4ce2-84ac-48e8d8a69260",
   "metadata": {},
   "source": [
    "First we will call `propterties.compute` over our `ImageStack` to retrieve the stack's pertinent information, such as `datetime` and `Image ID`, which we will keep track of for later:"
   ]
  },
  {
   "cell_type": "code",
   "execution_count": null,
   "id": "a757f037-95be-4ad9-8cc0-036f46f9874e",
   "metadata": {
    "tags": []
   },
   "outputs": [],
   "source": [
    "ndvi_props = ndvi_corn_mask.properties.compute(dltile)\n",
    "ndvi_props[0]"
   ]
  },
  {
   "cell_type": "code",
   "execution_count": null,
   "id": "e01433b0-251a-49b3-9761-dd390a3bf98a",
   "metadata": {},
   "outputs": [],
   "source": [
    "ndvi_dates = [p[\"acquired\"].strftime(\"%Y-%m-%d\") for p in ndvi_props]\n",
    "\n",
    "ndvi_ids = [p[\"id\"] for p in ndvi_props]"
   ]
  },
  {
   "cell_type": "markdown",
   "id": "22e6165b-3af7-4e79-af49-d61fce8028c1",
   "metadata": {},
   "source": [
    "Next we will explore `axis='pixels'`, where the returned value is a single statistic corresponding to an `Image`'s acquired date:"
   ]
  },
  {
   "cell_type": "code",
   "execution_count": null,
   "id": "2a94980d-b49d-4970-b483-f54af563e58e",
   "metadata": {},
   "outputs": [],
   "source": [
    "ndvi_mean = ndvi.mean(axis=\"pixels\").compute(dltile)\n",
    "ndvi_mean_list = ndvi_mean.ndarray[:, 0].tolist()"
   ]
  },
  {
   "cell_type": "code",
   "execution_count": null,
   "id": "d58ca0fc-0db1-4b9e-bab6-1e00ae1945ec",
   "metadata": {},
   "outputs": [],
   "source": [
    "fig, ax = plt.subplots(figsize=(10, 5))\n",
    "ax.plot(ndvi_dates, ndvi_mean_list)"
   ]
  },
  {
   "cell_type": "markdown",
   "id": "a59f5ae2-aaa4-4176-b65a-339f9f95694d",
   "metadata": {},
   "source": [
    "Comparing `axis='pixels'` to `axis='images'`, we'll see the resulting `ndarray` is the same shape as that of a single-dimensional `Mosaic`, in this case each pixel represents the mean value throughout the time period:"
   ]
  },
  {
   "cell_type": "code",
   "execution_count": null,
   "id": "d64ceab5-c006-4ae9-bbf6-7c656ea4e0e1",
   "metadata": {},
   "outputs": [],
   "source": [
    "ndvi_mean_arr = ndvi_corn_mask.mean(axis=\"images\").compute(dltile).ndarray\n",
    "dl.utils.display(ndvi_mean_arr, colormap=\"viridis\", figsize=(5, 5))"
   ]
  },
  {
   "cell_type": "markdown",
   "id": "072b4692-aad0-453d-840f-e30a53b6b36b",
   "metadata": {},
   "source": [
    "Lastly we will plot out the underlying `ImageStack` with it's associated NDVI, Acquired Date, and Unique ID:"
   ]
  },
  {
   "cell_type": "code",
   "execution_count": null,
   "id": "eb8491a0-25d6-4238-9865-f9a537664a91",
   "metadata": {},
   "outputs": [],
   "source": [
    "title_list = []\n",
    "for i in range(len(ndvi_dates)):\n",
    "    title_list.append(\n",
    "        f\"Mean NDVI: {ndvi_mean_list[i]}\\nAcquired Date: {ndvi_dates[i]}\\nImage ID: {ndvi_ids[0]}\"\n",
    "    )"
   ]
  },
  {
   "cell_type": "code",
   "execution_count": null,
   "id": "09f296f0-d5fa-4558-917a-b9d0d8d1dd16",
   "metadata": {},
   "outputs": [],
   "source": [
    "ndvi_stack = ndvi_corn_mask.compute(dltile)\n",
    "dl.utils.display(*ndvi_stack.ndarray, title=title_list, colormap=\"viridis\")"
   ]
  },
  {
   "cell_type": "code",
   "execution_count": null,
   "id": "e69fa0d0-0391-474a-8ba8-1124bc795018",
   "metadata": {},
   "outputs": [],
   "source": []
  },
  {
   "cell_type": "code",
   "execution_count": null,
   "id": "4d8d7ce5-a392-4d7d-8d01-ec8fa3bc1111",
   "metadata": {},
   "outputs": [],
   "source": []
  }
 ],
 "metadata": {
  "kernelspec": {
   "display_name": "Python 3 (ipykernel)",
   "language": "python",
   "name": "python3"
  },
  "language_info": {
   "codemirror_mode": {
    "name": "ipython",
    "version": 3
   },
   "file_extension": ".py",
   "mimetype": "text/x-python",
   "name": "python",
   "nbconvert_exporter": "python",
   "pygments_lexer": "ipython3",
   "version": "3.8.16"
  }
 },
 "nbformat": 4,
 "nbformat_minor": 5
}
